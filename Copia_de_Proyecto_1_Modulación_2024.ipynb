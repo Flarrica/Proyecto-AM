{
  "nbformat": 4,
  "nbformat_minor": 0,
  "metadata": {
    "colab": {
      "provenance": []
    },
    "kernelspec": {
      "name": "python3",
      "display_name": "Python 3"
    },
    "language_info": {
      "name": "python"
    }
  },
  "cells": [
    {
      "cell_type": "markdown",
      "metadata": {
        "id": "u_Xf138-KtTn"
      },
      "source": [
        "# Entrega\n",
        "\n",
        "Se sugiere agregar todas las secciones de código y texto necesarias para implementar y documentar la solución en el mismo notebook. La entrega deberá contener el notebook desarrollado (para descargar el notebook deben ir a Archivo > Descargar > Descargar .ipynb).\n",
        "\n",
        "Cada equipo deberá subir a webasignatura una única vez el archivo usando el link Entrega Proyecto 1. La fecha límite de entrega es **martes 21 de mayo a las 23:59**."
      ]
    },
    {
      "cell_type": "markdown",
      "metadata": {
        "id": "f-R1OL4C9s7v"
      },
      "source": [
        "# Ejercicio: Modulación AM\n",
        "La modulación AM de un mensaje $x_m(t)$ se basa en la siguiente ecuación:\n",
        "$$\n",
        "x_c (t) = A_c(1+\\mu x_m(t))\\cos(2\\pi f_c t),\n",
        "$$\n",
        "donde $A_c$ y $\\mu$ son la amplitud y el factor de modulación (parámetros) y $f_c$ es la frecuencia de la portadora.\n",
        "\n",
        "El resultado de la modulación es desplazar el espectro de $x_m(t)$ para llevarlo a la frecuencia $f_c$.\n",
        "\n",
        "El objetivo de este ejercicio es implementar un modoluador y un demodulador AM. El modulador tomará como entrada el mensaje $x_m(t)$ para generar la señal modulada $x_c(t)$. El demodulador deberá recuperar el mensaje a partir de la señal modulada aplicando la técnica de detector de envolvente.\n",
        "\n",
        "Para simplificar las operaciones se asumirá que $A_c = 1$ y $\\mu = 1$. La frecuencia de la portadora se tomará para todo el ejercicio será $f_c = 100kHz$.\n",
        "\n",
        "A continuación se especifican las funciones a desarrollar y como cargar el mensaje de audio que se modulará $x_m(t)$.\n",
        "\n",
        "**Observación** Tenga presente que se implementará una solución digital a un problema contínuo. Para esto deberá elegir adecuadamente la frecuencia de muestreo para que la misma permita capturar sin pérdida todas las frecuencias relevantes del problema contínuo."
      ]
    },
    {
      "cell_type": "code",
      "metadata": {
        "id": "_y3r5Xyr8ZUO"
      },
      "source": [
        "def modulador(xm,fc,t):\n",
        "  #\n",
        "  # Entradas\n",
        "  # xm: mensaje a ser moduladoooo\n",
        "  # fc: frecuencia de la portadora\n",
        "  # t: vector de tiempos para los que se generará la señal modulada\n",
        "  #\n",
        "  # Salidas\n",
        "  # xc: señal modulada\n",
        "  #\n",
        "  # Observación:\n",
        "  # El vector de tiempos debe ser generado con la frecuencia de muestreo adecuada"
      ],
      "execution_count": null,
      "outputs": []
    },
    {
      "cell_type": "code",
      "metadata": {
        "id": "P_Pl8ievCQDF"
      },
      "source": [
        "def demodulador(xc,fc,t):\n",
        "  #\n",
        "  # Entradas\n",
        "  # xc: señal modulada\n",
        "  # fc: frecuencia de la portadora\n",
        "  # t: vector de tiempos\n",
        "  #\n",
        "  # Salidas\n",
        "  # xm: mensaje demodulado"
      ],
      "execution_count": null,
      "outputs": []
    },
    {
      "cell_type": "code",
      "metadata": {
        "id": "mwU_hlk-GRZe",
        "colab": {
          "base_uri": "https://localhost:8080/",
          "height": 265
        },
        "outputId": "735fb0c9-a6d0-4e75-9cae-c55d845a98c0"
      },
      "source": [
        "from scipy.io import wavfile\n",
        "\n",
        "def leeAudio( file_path ):\n",
        "  # Lectura del archivo .wav\n",
        "  fs,x = wavfile.read( file_path )\n",
        "\n",
        "  # Nos quedamos con un canal normalizado entre -1 y 1\n",
        "  x = x[:,0]/32767.0\n",
        "\n",
        "  return fs,x\n",
        "\n",
        "\n",
        "# El archivo mensaje.wav debe subirse llevándola a la carpeta que aparece a la izquierda\n",
        "fs, x = leeAudio(\"mensaje.wav\")\n",
        "\n",
        "# Grafica del mensaje\n",
        "from matplotlib import pyplot as plt\n",
        "plt.plot(x)\n",
        "plt.show()"
      ],
      "execution_count": null,
      "outputs": [
        {
          "output_type": "display_data",
          "data": {
            "image/png": "[encoded data removed]",
            "text/plain": [
              "<Figure size 432x288 with 1 Axes>"
            ]
          },
          "metadata": {
            "tags": [],
            "needs_background": "light"
          }
        }
      ]
    },
    {
      "cell_type": "code",
      "metadata": {
        "id": "dIC-n_yMDwqP"
      },
      "source": [
        "from scipy import signal\n",
        "import numpy as np\n",
        "\n",
        "# Datos del mensaje de entrada\n",
        "print(\"Muestras: \", x.shape[0], \"Fs: \", fs, \"Tiempo: \", x.shape[0]/fs)\n",
        "\n",
        "# Nueva frecuencia de muestreo\n",
        "fs2 = 60000\n",
        "\n",
        "# Tiempo total del mensaje original\n",
        "T = x.shape[0] / fs\n",
        "\n",
        "# Nueva cantidad de muestras\n",
        "# N2 = fs2 * T\n",
        "N2 = np.ceil( fs2 * T )\n",
        "\n",
        "x2 = signal.resample(x,np.int(N2))\n",
        "\n",
        "print(\"Muestras: \", x2.shape[0], \"Fs: \", fs2, \"Tiempo: \", x2.shape[0]/fs2)\n",
        "\n",
        "# Vector de tiempos en función del nuevo mensaje\n",
        "t = np.linspace(0,x2.shape[0],x2.shape[0]) / fs2"
      ],
      "execution_count": null,
      "outputs": []
    }
  ]
}